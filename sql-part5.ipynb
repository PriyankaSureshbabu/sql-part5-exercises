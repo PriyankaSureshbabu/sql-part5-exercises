{
    "metadata": {
        "kernelspec": {
            "name": "SQL",
            "display_name": "SQL",
            "language": "sql"
        },
        "language_info": {
            "name": "sql",
            "version": ""
        }
    },
    "nbformat_minor": 2,
    "nbformat": 4,
    "cells": [
        {
            "cell_type": "markdown",
            "source": [
                "# Exercises: Creating, Updating, and Destroying Objects\n",
                "\n",
                "For the exercises, you will be working with objects and data you create. Before opening this notebook, make sure that you have set up the new connection to the server and that you have located the database and your schema.\n",
                "\n",
                "## Object Creation\n",
                "\n",
                "Before coding, think of three things you want to make. These could be coding projects, new recipes, or planned projects for a woodworking hobby. Brainstorm the appropriate column names and data types as well.\n",
                "\n",
                "Create a table under your schema called `planned_makes`."
            ],
            "metadata": {
                "azdata_cell_guid": "9d51c166-0c19-4f27-a422-2a6cf596bfb2"
            },
            "attachments": {}
        },
        {
            "cell_type": "code",
            "source": [
                "-- CREATE TABLE JunkDB_STL_May2023.priyanka.planned_makes\r\n",
                "-- (id int primary key,\r\n",
                "-- recipe_name varchar (50) not null,\r\n",
                "-- ingredients varchar (100),\r\n",
                "-- description varchar (200))\r\n",
                "-- ;\r\n",
                "\r\n",
                "SELECT * FROM JunkDB_STL_May2023.priyanka.planned_makes;\r\n",
                ""
            ],
            "metadata": {
                "azdata_cell_guid": "d9238911-6f81-4f01-980d-b584307effaf",
                "language": "sql"
            },
            "outputs": [
                {
                    "output_type": "display_data",
                    "data": {
                        "text/html": "(0 rows affected)"
                    },
                    "metadata": {}
                },
                {
                    "output_type": "display_data",
                    "data": {
                        "text/html": "Total execution time: 00:00:00.040"
                    },
                    "metadata": {}
                },
                {
                    "output_type": "execute_result",
                    "metadata": {},
                    "execution_count": 40,
                    "data": {
                        "application/vnd.dataresource+json": {
                            "schema": {
                                "fields": [
                                    {
                                        "name": "id"
                                    },
                                    {
                                        "name": "recipe_name"
                                    },
                                    {
                                        "name": "ingredients"
                                    },
                                    {
                                        "name": "description"
                                    }
                                ]
                            },
                            "data": []
                        },
                        "text/html": [
                            "<table>",
                            "<tr><th>id</th><th>recipe_name</th><th>ingredients</th><th>description</th></tr>",
                            "</table>"
                        ]
                    }
                }
            ],
            "execution_count": 40
        },
        {
            "cell_type": "markdown",
            "source": [
                "Add three rows to your table that are your planned makes."
            ],
            "metadata": {
                "azdata_cell_guid": "83cdf34d-8c4f-4fa1-a14e-77384b19d734"
            }
        },
        {
            "cell_type": "code",
            "source": [
                "INSERT INTO JunkDB_STL_May2023.priyanka.planned_makes\r\n",
                "(id, recipe_name, ingredients, description) VALUES\r\n",
                "(1, 'Chips', 'potato, salt, oil', 'Slice the potatoes, fry in the oil and add salt to taste and enjoy!'),\r\n",
                "(2, 'Tea', 'Milk, Tea Powder, Sugar', 'Boil the milk, add tea powder at boling point and add sugar to taste. Yummy!'),\r\n",
                "(3, 'Omlete', 'Egg, Salt, Pepper', 'Break the egg and spread through the pan. Add salt and pepper at the top. Have fun!')\r\n",
                "\r\n",
                "select * from JunkDB_STL_May2023.priyanka.planned_makes"
            ],
            "metadata": {
                "azdata_cell_guid": "e7cff9cb-87ba-4c7b-98f2-eaf445e8719c",
                "language": "sql"
            },
            "outputs": [
                {
                    "output_type": "display_data",
                    "data": {
                        "text/html": "(3 rows affected)"
                    },
                    "metadata": {}
                },
                {
                    "output_type": "display_data",
                    "data": {
                        "text/html": "(3 rows affected)"
                    },
                    "metadata": {}
                },
                {
                    "output_type": "display_data",
                    "data": {
                        "text/html": "Total execution time: 00:00:00.049"
                    },
                    "metadata": {}
                },
                {
                    "output_type": "execute_result",
                    "metadata": {},
                    "execution_count": 41,
                    "data": {
                        "application/vnd.dataresource+json": {
                            "schema": {
                                "fields": [
                                    {
                                        "name": "id"
                                    },
                                    {
                                        "name": "recipe_name"
                                    },
                                    {
                                        "name": "ingredients"
                                    },
                                    {
                                        "name": "description"
                                    }
                                ]
                            },
                            "data": [
                                {
                                    "id": "1",
                                    "recipe_name": "Chips",
                                    "ingredients": "potato, salt, oil",
                                    "description": "Slice the potatoes, fry in the oil and add salt to taste and enjoy!"
                                },
                                {
                                    "id": "2",
                                    "recipe_name": "Tea",
                                    "ingredients": "Milk, Tea Powder, Sugar",
                                    "description": "Boil the milk, add tea powder at boling point and add sugar to taste. Yummy!"
                                },
                                {
                                    "id": "3",
                                    "recipe_name": "Omlete",
                                    "ingredients": "Egg, Salt, Pepper",
                                    "description": "Break the egg and spread through the pan. Add salt and pepper at the top. Have fun!"
                                }
                            ]
                        },
                        "text/html": [
                            "<table>",
                            "<tr><th>id</th><th>recipe_name</th><th>ingredients</th><th>description</th></tr>",
                            "<tr><td>1</td><td>Chips</td><td>potato, salt, oil</td><td>Slice the potatoes, fry in the oil and add salt to taste and enjoy!</td></tr>",
                            "<tr><td>2</td><td>Tea</td><td>Milk, Tea Powder, Sugar</td><td>Boil the milk, add tea powder at boling point and add sugar to taste. Yummy!</td></tr>",
                            "<tr><td>3</td><td>Omlete</td><td>Egg, Salt, Pepper</td><td>Break the egg and spread through the pan. Add salt and pepper at the top. Have fun!</td></tr>",
                            "</table>"
                        ]
                    }
                }
            ],
            "execution_count": 41
        },
        {
            "cell_type": "markdown",
            "source": [
                "## Update a Row\n",
                "\n",
                "Change different values in one of your three rows."
            ],
            "metadata": {
                "azdata_cell_guid": "4a39b8d4-ae97-4e09-8336-c5fc6a00d76c"
            },
            "attachments": {}
        },
        {
            "cell_type": "code",
            "source": [
                "UPDATE JunkDB_STL_May2023.priyanka.planned_makes\r\n",
                "SET recipe_name = 'Chai'\r\n",
                "WHERE id = 2;\r\n",
                "\r\n",
                "select * from JunkDB_STL_May2023.priyanka.planned_makes"
            ],
            "metadata": {
                "azdata_cell_guid": "7409c695-9581-4ad8-b03a-574d2c4c87cb",
                "language": "sql"
            },
            "outputs": [
                {
                    "output_type": "display_data",
                    "data": {
                        "text/html": "(1 row affected)"
                    },
                    "metadata": {}
                },
                {
                    "output_type": "display_data",
                    "data": {
                        "text/html": "(3 rows affected)"
                    },
                    "metadata": {}
                },
                {
                    "output_type": "display_data",
                    "data": {
                        "text/html": "Total execution time: 00:00:00.046"
                    },
                    "metadata": {}
                },
                {
                    "output_type": "execute_result",
                    "metadata": {},
                    "execution_count": 42,
                    "data": {
                        "application/vnd.dataresource+json": {
                            "schema": {
                                "fields": [
                                    {
                                        "name": "id"
                                    },
                                    {
                                        "name": "recipe_name"
                                    },
                                    {
                                        "name": "ingredients"
                                    },
                                    {
                                        "name": "description"
                                    }
                                ]
                            },
                            "data": [
                                {
                                    "id": "1",
                                    "recipe_name": "Chips",
                                    "ingredients": "potato, salt, oil",
                                    "description": "Slice the potatoes, fry in the oil and add salt to taste and enjoy!"
                                },
                                {
                                    "id": "2",
                                    "recipe_name": "Chai",
                                    "ingredients": "Milk, Tea Powder, Sugar",
                                    "description": "Boil the milk, add tea powder at boling point and add sugar to taste. Yummy!"
                                },
                                {
                                    "id": "3",
                                    "recipe_name": "Omlete",
                                    "ingredients": "Egg, Salt, Pepper",
                                    "description": "Break the egg and spread through the pan. Add salt and pepper at the top. Have fun!"
                                }
                            ]
                        },
                        "text/html": [
                            "<table>",
                            "<tr><th>id</th><th>recipe_name</th><th>ingredients</th><th>description</th></tr>",
                            "<tr><td>1</td><td>Chips</td><td>potato, salt, oil</td><td>Slice the potatoes, fry in the oil and add salt to taste and enjoy!</td></tr>",
                            "<tr><td>2</td><td>Chai</td><td>Milk, Tea Powder, Sugar</td><td>Boil the milk, add tea powder at boling point and add sugar to taste. Yummy!</td></tr>",
                            "<tr><td>3</td><td>Omlete</td><td>Egg, Salt, Pepper</td><td>Break the egg and spread through the pan. Add salt and pepper at the top. Have fun!</td></tr>",
                            "</table>"
                        ]
                    }
                }
            ],
            "execution_count": 42
        },
        {
            "cell_type": "markdown",
            "source": [
                "## Delete a Row\n",
                "\n",
                "Delete one of the rows from your table."
            ],
            "metadata": {
                "azdata_cell_guid": "95e91a6e-9038-42d9-9401-5738842aba17"
            }
        },
        {
            "cell_type": "code",
            "source": [
                "DELETE FROM JunkDB_STL_May2023.priyanka.planned_makes\r\n",
                "WHERE id = 3;\r\n",
                "\r\n",
                "select * from JunkDB_STL_May2023.priyanka.planned_makes"
            ],
            "metadata": {
                "azdata_cell_guid": "749c748f-19b5-4c69-9004-b6b20216616a",
                "language": "sql"
            },
            "outputs": [
                {
                    "output_type": "display_data",
                    "data": {
                        "text/html": "(1 row affected)"
                    },
                    "metadata": {}
                },
                {
                    "output_type": "display_data",
                    "data": {
                        "text/html": "(2 rows affected)"
                    },
                    "metadata": {}
                },
                {
                    "output_type": "display_data",
                    "data": {
                        "text/html": "Total execution time: 00:00:00.080"
                    },
                    "metadata": {}
                },
                {
                    "output_type": "execute_result",
                    "metadata": {},
                    "execution_count": 43,
                    "data": {
                        "application/vnd.dataresource+json": {
                            "schema": {
                                "fields": [
                                    {
                                        "name": "id"
                                    },
                                    {
                                        "name": "recipe_name"
                                    },
                                    {
                                        "name": "ingredients"
                                    },
                                    {
                                        "name": "description"
                                    }
                                ]
                            },
                            "data": [
                                {
                                    "id": "1",
                                    "recipe_name": "Chips",
                                    "ingredients": "potato, salt, oil",
                                    "description": "Slice the potatoes, fry in the oil and add salt to taste and enjoy!"
                                },
                                {
                                    "id": "2",
                                    "recipe_name": "Chai",
                                    "ingredients": "Milk, Tea Powder, Sugar",
                                    "description": "Boil the milk, add tea powder at boling point and add sugar to taste. Yummy!"
                                }
                            ]
                        },
                        "text/html": [
                            "<table>",
                            "<tr><th>id</th><th>recipe_name</th><th>ingredients</th><th>description</th></tr>",
                            "<tr><td>1</td><td>Chips</td><td>potato, salt, oil</td><td>Slice the potatoes, fry in the oil and add salt to taste and enjoy!</td></tr>",
                            "<tr><td>2</td><td>Chai</td><td>Milk, Tea Powder, Sugar</td><td>Boil the milk, add tea powder at boling point and add sugar to taste. Yummy!</td></tr>",
                            "</table>"
                        ]
                    }
                }
            ],
            "execution_count": 43
        },
        {
            "cell_type": "markdown",
            "source": [
                "## Drop the Table\n",
                "\n",
                "While this has been fun, it is time to drop the table!"
            ],
            "metadata": {
                "azdata_cell_guid": "2239cb09-137b-4579-905b-1aa020793181"
            },
            "attachments": {}
        },
        {
            "cell_type": "code",
            "source": [
                "DROP JunkDB_STL_May2023.priyanka.planned_makes"
            ],
            "metadata": {
                "azdata_cell_guid": "b3c7f6ea-ee26-46b3-9c2a-2f7a82c39699",
                "language": "sql"
            },
            "outputs": [
                {
                    "output_type": "error",
                    "evalue": "Msg 343, Level 15, State 1, Line 1\r\nUnknown object type 'JunkDB_STL_May2023' used in a CREATE, DROP, or ALTER statement.",
                    "ename": "",
                    "traceback": []
                },
                {
                    "output_type": "display_data",
                    "data": {
                        "text/html": "Total execution time: 00:00:00.037"
                    },
                    "metadata": {}
                }
            ],
            "execution_count": 51
        }
    ]
}